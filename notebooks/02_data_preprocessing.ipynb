{
 "cells": [
  {
   "cell_type": "code",
   "execution_count": 8,
   "id": "1c41d6f6",
   "metadata": {},
   "outputs": [
    {
     "name": "stdout",
     "output_type": "stream",
     "text": [
      "train: 8632 -> 8309 (removed 323)  saved:../Dataset/processed/train.csv  backup:../Dataset/processed/train.csv.bak\n",
      "val: 1079 -> 1068 (removed 11)  saved:../Dataset/processed/val.csv  backup:../Dataset/processed/val.csv.bak\n",
      "test: 1079 -> 1069 (removed 10)  saved:../Dataset/processed/test.csv  backup:../Dataset/processed/test.csv.bak\n"
     ]
    }
   ],
   "source": [
    "import os\n",
    "import shutil\n",
    "import re\n",
    "import unicodedata\n",
    "import pandas as pd\n",
    "\n",
    "data_dir = \"../Dataset/processed\"\n",
    "paths = {\n",
    "    \"train\": os.path.join(data_dir, \"train.csv\"),\n",
    "    \"val\":   os.path.join(data_dir, \"val.csv\"),\n",
    "    \"test\":  os.path.join(data_dir, \"test.csv\"),\n",
    "}\n",
    "\n",
    "def normalize_text(s):\n",
    "    if pd.isna(s):\n",
    "        return \"\"\n",
    "    s = str(s).strip()\n",
    "    s = unicodedata.normalize(\"NFC\", s)\n",
    "    s = s.replace(\"“\", '\"').replace(\"”\", '\"').replace(\"‘\", \"'\").replace(\"’\", \"'\")\n",
    "    s = re.sub(r'^[\"\\']+|[\"\\']+$', '', s)  \n",
    "    return s\n",
    "\n",
    "for name, p in paths.items():\n",
    "    if not os.path.exists(p):\n",
    "        print(f\"skip (not found): {name} -> {p}\")\n",
    "        continue\n",
    "\n",
    "    bak = p + \".bak\"\n",
    "    if not os.path.exists(bak):\n",
    "        shutil.copy2(p, bak)\n",
    "\n",
    "    df = pd.read_csv(p)\n",
    "    before = len(df)\n",
    "\n",
    "    df[\"english\"] = df.get(\"english\", \"\").apply(normalize_text)\n",
    "    df[\"igbo\"]    = df.get(\"igbo\", \"\").apply(normalize_text)\n",
    "\n",
    "    df = df[(df[\"english\"] != \"\") & (df[\"igbo\"] != \"\")]\n",
    "    df = df.drop_duplicates()\n",
    "\n",
    "    after = len(df)\n",
    "    df.to_csv(p, index=False)\n",
    "    print(f\"{name}: {before} -> {after} (removed {before-after})  saved:{p}  backup:{bak}\")\n"
   ]
  },
  {
   "cell_type": "code",
   "execution_count": 9,
   "id": "eeb5027a",
   "metadata": {},
   "outputs": [
    {
     "data": {
      "text/html": [
       "<div>\n",
       "<style scoped>\n",
       "    .dataframe tbody tr th:only-of-type {\n",
       "        vertical-align: middle;\n",
       "    }\n",
       "\n",
       "    .dataframe tbody tr th {\n",
       "        vertical-align: top;\n",
       "    }\n",
       "\n",
       "    .dataframe thead th {\n",
       "        text-align: right;\n",
       "    }\n",
       "</style>\n",
       "<table border=\"1\" class=\"dataframe\">\n",
       "  <thead>\n",
       "    <tr style=\"text-align: right;\">\n",
       "      <th></th>\n",
       "      <th>english</th>\n",
       "      <th>igbo</th>\n",
       "    </tr>\n",
       "  </thead>\n",
       "  <tbody>\n",
       "    <tr>\n",
       "      <th>0</th>\n",
       "      <td>Why did you leave your former place of work?</td>\n",
       "      <td>Gịnị mere i ji hapụ ebe ị na-arụ n'oge mbu?</td>\n",
       "    </tr>\n",
       "    <tr>\n",
       "      <th>1</th>\n",
       "      <td>Eventually, it took me about two more calls to...</td>\n",
       "      <td>N'ikpeazụ, ọ were m ihe ugboro abụọ ọzọ iji me...</td>\n",
       "    </tr>\n",
       "    <tr>\n",
       "      <th>2</th>\n",
       "      <td>News have previously read that governor Okoroc...</td>\n",
       "      <td>Akwụkwọ akụkọ ekwubuola na Gọvanọ Okorocha sị ...</td>\n",
       "    </tr>\n",
       "    <tr>\n",
       "      <th>3</th>\n",
       "      <td>Soyinka: 'Sowore, Welcome To The Club' As Nobe...</td>\n",
       "      <td>Soyinka: 'Sowore, Nnọọ n'Otu' dịka Onye Oke ih...</td>\n",
       "    </tr>\n",
       "    <tr>\n",
       "      <th>4</th>\n",
       "      <td>according to an interview, some people express...</td>\n",
       "      <td>Ụfọdụ ndị anyị gbara ajụjụ ọnụ gosiri obi ụtọ ...</td>\n",
       "    </tr>\n",
       "  </tbody>\n",
       "</table>\n",
       "</div>"
      ],
      "text/plain": [
       "                                             english  \\\n",
       "0       Why did you leave your former place of work?   \n",
       "1  Eventually, it took me about two more calls to...   \n",
       "2  News have previously read that governor Okoroc...   \n",
       "3  Soyinka: 'Sowore, Welcome To The Club' As Nobe...   \n",
       "4  according to an interview, some people express...   \n",
       "\n",
       "                                                igbo  \n",
       "0        Gịnị mere i ji hapụ ebe ị na-arụ n'oge mbu?  \n",
       "1  N'ikpeazụ, ọ were m ihe ugboro abụọ ọzọ iji me...  \n",
       "2  Akwụkwọ akụkọ ekwubuola na Gọvanọ Okorocha sị ...  \n",
       "3  Soyinka: 'Sowore, Nnọọ n'Otu' dịka Onye Oke ih...  \n",
       "4  Ụfọdụ ndị anyị gbara ajụjụ ọnụ gosiri obi ụtọ ...  "
      ]
     },
     "execution_count": 9,
     "metadata": {},
     "output_type": "execute_result"
    }
   ],
   "source": [
    "import pandas as pd\n",
    "pd.read_csv(\"../Dataset/processed/train.csv\").head()\n"
   ]
  },
  {
   "cell_type": "code",
   "execution_count": 10,
   "id": "c74fcc32",
   "metadata": {},
   "outputs": [
    {
     "name": "stdout",
     "output_type": "stream",
     "text": [
      "english rows with surrounding quotes: 0\n",
      "igbo rows with surrounding quotes: 0\n"
     ]
    }
   ],
   "source": [
    "import pandas as pd\n",
    "df = pd.read_csv(\"../Dataset/processed/train.csv\")\n",
    "\n",
    "# How many rows have leading or trailing straight double-quotes in the loaded strings?\n",
    "bad = df['english'].str.startswith('\"') | df['english'].str.endswith('\"')\n",
    "print(\"english rows with surrounding quotes:\", bad.sum())\n",
    "\n",
    "bad2 = df['igbo'].str.startswith('\"') | df['igbo'].str.endswith('\"')\n",
    "print(\"igbo rows with surrounding quotes:\", bad2.sum())\n"
   ]
  },
  {
   "cell_type": "code",
   "execution_count": null,
   "id": "688594ff",
   "metadata": {},
   "outputs": [],
   "source": []
  }
 ],
 "metadata": {
  "kernelspec": {
   "display_name": "venv",
   "language": "python",
   "name": "python3"
  },
  "language_info": {
   "codemirror_mode": {
    "name": "ipython",
    "version": 3
   },
   "file_extension": ".py",
   "mimetype": "text/x-python",
   "name": "python",
   "nbconvert_exporter": "python",
   "pygments_lexer": "ipython3",
   "version": "3.13.5"
  }
 },
 "nbformat": 4,
 "nbformat_minor": 5
}
